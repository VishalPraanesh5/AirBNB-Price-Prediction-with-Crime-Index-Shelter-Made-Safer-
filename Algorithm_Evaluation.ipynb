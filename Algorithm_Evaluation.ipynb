{
 "cells": [
  {
   "cell_type": "code",
   "execution_count": 24,
   "metadata": {
    "collapsed": true
   },
   "outputs": [],
   "source": [
    "import pandas as pd\n",
    "import numpy as np\n",
    "import re\n",
    "import datetime\n",
    "from sklearn.metrics import median_absolute_error"
   ]
  },
  {
   "cell_type": "markdown",
   "metadata": {},
   "source": [
    "## Read preprocessed csv data"
   ]
  },
  {
   "cell_type": "code",
   "execution_count": 25,
   "metadata": {},
   "outputs": [
    {
     "data": {
      "text/html": [
       "<div>\n",
       "<style>\n",
       "    .dataframe thead tr:only-child th {\n",
       "        text-align: right;\n",
       "    }\n",
       "\n",
       "    .dataframe thead th {\n",
       "        text-align: left;\n",
       "    }\n",
       "\n",
       "    .dataframe tbody tr th {\n",
       "        vertical-align: top;\n",
       "    }\n",
       "</style>\n",
       "<table border=\"1\" class=\"dataframe\">\n",
       "  <thead>\n",
       "    <tr style=\"text-align: right;\">\n",
       "      <th></th>\n",
       "      <th>host_neighbourhood</th>\n",
       "      <th>host_identity_verified</th>\n",
       "      <th>neighbourhood</th>\n",
       "      <th>city</th>\n",
       "      <th>zipcode</th>\n",
       "      <th>property_type</th>\n",
       "      <th>room_type</th>\n",
       "      <th>accommodates</th>\n",
       "      <th>bathrooms</th>\n",
       "      <th>bedrooms</th>\n",
       "      <th>...</th>\n",
       "      <th>availability_365</th>\n",
       "      <th>number_of_reviews</th>\n",
       "      <th>review_scores_rating</th>\n",
       "      <th>review_scores_accuracy</th>\n",
       "      <th>review_scores_cleanliness</th>\n",
       "      <th>review_scores_checkin</th>\n",
       "      <th>review_scores_communication</th>\n",
       "      <th>review_scores_location</th>\n",
       "      <th>review_scores_value</th>\n",
       "      <th>cancellation_policy</th>\n",
       "    </tr>\n",
       "  </thead>\n",
       "  <tbody>\n",
       "    <tr>\n",
       "      <th>0</th>\n",
       "      <td>City Island</td>\n",
       "      <td>t</td>\n",
       "      <td>City Island</td>\n",
       "      <td>Bronx</td>\n",
       "      <td>10464</td>\n",
       "      <td>House</td>\n",
       "      <td>Private room</td>\n",
       "      <td>2</td>\n",
       "      <td>1.0</td>\n",
       "      <td>1.0</td>\n",
       "      <td>...</td>\n",
       "      <td>170</td>\n",
       "      <td>25</td>\n",
       "      <td>100.000000</td>\n",
       "      <td>10.000000</td>\n",
       "      <td>10.00000</td>\n",
       "      <td>10.000000</td>\n",
       "      <td>10.000000</td>\n",
       "      <td>10.000000</td>\n",
       "      <td>10.000000</td>\n",
       "      <td>moderate</td>\n",
       "    </tr>\n",
       "    <tr>\n",
       "      <th>1</th>\n",
       "      <td>City Island</td>\n",
       "      <td>f</td>\n",
       "      <td>City Island</td>\n",
       "      <td>Bronx</td>\n",
       "      <td>10464</td>\n",
       "      <td>Apartment</td>\n",
       "      <td>Private room</td>\n",
       "      <td>4</td>\n",
       "      <td>1.0</td>\n",
       "      <td>1.0</td>\n",
       "      <td>...</td>\n",
       "      <td>180</td>\n",
       "      <td>0</td>\n",
       "      <td>93.004379</td>\n",
       "      <td>9.531624</td>\n",
       "      <td>9.19608</td>\n",
       "      <td>9.709184</td>\n",
       "      <td>9.738259</td>\n",
       "      <td>9.417991</td>\n",
       "      <td>9.338282</td>\n",
       "      <td>flexible</td>\n",
       "    </tr>\n",
       "    <tr>\n",
       "      <th>2</th>\n",
       "      <td>City Island</td>\n",
       "      <td>f</td>\n",
       "      <td>City Island</td>\n",
       "      <td>Bronx</td>\n",
       "      <td>10464</td>\n",
       "      <td>House</td>\n",
       "      <td>Entire home/apt</td>\n",
       "      <td>4</td>\n",
       "      <td>3.0</td>\n",
       "      <td>3.0</td>\n",
       "      <td>...</td>\n",
       "      <td>365</td>\n",
       "      <td>0</td>\n",
       "      <td>93.004379</td>\n",
       "      <td>9.531624</td>\n",
       "      <td>9.19608</td>\n",
       "      <td>9.709184</td>\n",
       "      <td>9.738259</td>\n",
       "      <td>9.417991</td>\n",
       "      <td>9.338282</td>\n",
       "      <td>strict</td>\n",
       "    </tr>\n",
       "    <tr>\n",
       "      <th>3</th>\n",
       "      <td>City Island</td>\n",
       "      <td>t</td>\n",
       "      <td>City Island</td>\n",
       "      <td>City Island</td>\n",
       "      <td>10464</td>\n",
       "      <td>Apartment</td>\n",
       "      <td>Entire home/apt</td>\n",
       "      <td>3</td>\n",
       "      <td>1.0</td>\n",
       "      <td>1.0</td>\n",
       "      <td>...</td>\n",
       "      <td>335</td>\n",
       "      <td>12</td>\n",
       "      <td>93.000000</td>\n",
       "      <td>10.000000</td>\n",
       "      <td>10.00000</td>\n",
       "      <td>10.000000</td>\n",
       "      <td>10.000000</td>\n",
       "      <td>10.000000</td>\n",
       "      <td>10.000000</td>\n",
       "      <td>strict</td>\n",
       "    </tr>\n",
       "    <tr>\n",
       "      <th>4</th>\n",
       "      <td>City Island</td>\n",
       "      <td>t</td>\n",
       "      <td>City Island</td>\n",
       "      <td>Bronx</td>\n",
       "      <td>10464</td>\n",
       "      <td>House</td>\n",
       "      <td>Private room</td>\n",
       "      <td>4</td>\n",
       "      <td>1.0</td>\n",
       "      <td>1.0</td>\n",
       "      <td>...</td>\n",
       "      <td>352</td>\n",
       "      <td>86</td>\n",
       "      <td>97.000000</td>\n",
       "      <td>10.000000</td>\n",
       "      <td>10.00000</td>\n",
       "      <td>10.000000</td>\n",
       "      <td>10.000000</td>\n",
       "      <td>10.000000</td>\n",
       "      <td>10.000000</td>\n",
       "      <td>moderate</td>\n",
       "    </tr>\n",
       "    <tr>\n",
       "      <th>5</th>\n",
       "      <td>Williamsburg</td>\n",
       "      <td>f</td>\n",
       "      <td>Williamsburg</td>\n",
       "      <td>Bronx</td>\n",
       "      <td>10464</td>\n",
       "      <td>House</td>\n",
       "      <td>Entire home/apt</td>\n",
       "      <td>2</td>\n",
       "      <td>1.0</td>\n",
       "      <td>0.0</td>\n",
       "      <td>...</td>\n",
       "      <td>129</td>\n",
       "      <td>41</td>\n",
       "      <td>97.000000</td>\n",
       "      <td>10.000000</td>\n",
       "      <td>10.00000</td>\n",
       "      <td>10.000000</td>\n",
       "      <td>10.000000</td>\n",
       "      <td>10.000000</td>\n",
       "      <td>10.000000</td>\n",
       "      <td>moderate</td>\n",
       "    </tr>\n",
       "    <tr>\n",
       "      <th>6</th>\n",
       "      <td>City Island</td>\n",
       "      <td>t</td>\n",
       "      <td>City Island</td>\n",
       "      <td>City Island</td>\n",
       "      <td>10464</td>\n",
       "      <td>House</td>\n",
       "      <td>Entire home/apt</td>\n",
       "      <td>4</td>\n",
       "      <td>1.0</td>\n",
       "      <td>1.0</td>\n",
       "      <td>...</td>\n",
       "      <td>306</td>\n",
       "      <td>74</td>\n",
       "      <td>98.000000</td>\n",
       "      <td>10.000000</td>\n",
       "      <td>10.00000</td>\n",
       "      <td>10.000000</td>\n",
       "      <td>10.000000</td>\n",
       "      <td>10.000000</td>\n",
       "      <td>10.000000</td>\n",
       "      <td>flexible</td>\n",
       "    </tr>\n",
       "    <tr>\n",
       "      <th>7</th>\n",
       "      <td>Allerton</td>\n",
       "      <td>t</td>\n",
       "      <td>Allerton</td>\n",
       "      <td>Bronx</td>\n",
       "      <td>10467</td>\n",
       "      <td>Apartment</td>\n",
       "      <td>Private room</td>\n",
       "      <td>3</td>\n",
       "      <td>1.0</td>\n",
       "      <td>1.0</td>\n",
       "      <td>...</td>\n",
       "      <td>306</td>\n",
       "      <td>114</td>\n",
       "      <td>90.000000</td>\n",
       "      <td>9.000000</td>\n",
       "      <td>9.00000</td>\n",
       "      <td>9.000000</td>\n",
       "      <td>9.000000</td>\n",
       "      <td>9.000000</td>\n",
       "      <td>9.000000</td>\n",
       "      <td>strict</td>\n",
       "    </tr>\n",
       "    <tr>\n",
       "      <th>8</th>\n",
       "      <td>Baychester</td>\n",
       "      <td>t</td>\n",
       "      <td>Baychester</td>\n",
       "      <td>Bronx</td>\n",
       "      <td>10469</td>\n",
       "      <td>House</td>\n",
       "      <td>Entire home/apt</td>\n",
       "      <td>5</td>\n",
       "      <td>1.0</td>\n",
       "      <td>1.0</td>\n",
       "      <td>...</td>\n",
       "      <td>144</td>\n",
       "      <td>5</td>\n",
       "      <td>100.000000</td>\n",
       "      <td>10.000000</td>\n",
       "      <td>10.00000</td>\n",
       "      <td>10.000000</td>\n",
       "      <td>10.000000</td>\n",
       "      <td>10.000000</td>\n",
       "      <td>10.000000</td>\n",
       "      <td>moderate</td>\n",
       "    </tr>\n",
       "    <tr>\n",
       "      <th>9</th>\n",
       "      <td>Baychester</td>\n",
       "      <td>t</td>\n",
       "      <td>Baychester</td>\n",
       "      <td>Bronx</td>\n",
       "      <td>10469</td>\n",
       "      <td>Apartment</td>\n",
       "      <td>Entire home/apt</td>\n",
       "      <td>8</td>\n",
       "      <td>1.0</td>\n",
       "      <td>1.0</td>\n",
       "      <td>...</td>\n",
       "      <td>106</td>\n",
       "      <td>206</td>\n",
       "      <td>92.000000</td>\n",
       "      <td>9.000000</td>\n",
       "      <td>9.00000</td>\n",
       "      <td>10.000000</td>\n",
       "      <td>10.000000</td>\n",
       "      <td>9.000000</td>\n",
       "      <td>9.000000</td>\n",
       "      <td>strict</td>\n",
       "    </tr>\n",
       "  </tbody>\n",
       "</table>\n",
       "<p>10 rows × 30 columns</p>\n",
       "</div>"
      ],
      "text/plain": [
       "  host_neighbourhood host_identity_verified neighbourhood         city  \\\n",
       "0        City Island                      t   City Island        Bronx   \n",
       "1        City Island                      f   City Island        Bronx   \n",
       "2        City Island                      f   City Island        Bronx   \n",
       "3        City Island                      t   City Island  City Island   \n",
       "4        City Island                      t   City Island        Bronx   \n",
       "5       Williamsburg                      f  Williamsburg        Bronx   \n",
       "6        City Island                      t   City Island  City Island   \n",
       "7           Allerton                      t      Allerton        Bronx   \n",
       "8         Baychester                      t    Baychester        Bronx   \n",
       "9         Baychester                      t    Baychester        Bronx   \n",
       "\n",
       "  zipcode property_type        room_type  accommodates  bathrooms  bedrooms  \\\n",
       "0   10464         House     Private room             2        1.0       1.0   \n",
       "1   10464     Apartment     Private room             4        1.0       1.0   \n",
       "2   10464         House  Entire home/apt             4        3.0       3.0   \n",
       "3   10464     Apartment  Entire home/apt             3        1.0       1.0   \n",
       "4   10464         House     Private room             4        1.0       1.0   \n",
       "5   10464         House  Entire home/apt             2        1.0       0.0   \n",
       "6   10464         House  Entire home/apt             4        1.0       1.0   \n",
       "7   10467     Apartment     Private room             3        1.0       1.0   \n",
       "8   10469         House  Entire home/apt             5        1.0       1.0   \n",
       "9   10469     Apartment  Entire home/apt             8        1.0       1.0   \n",
       "\n",
       "          ...           availability_365 number_of_reviews  \\\n",
       "0         ...                        170                25   \n",
       "1         ...                        180                 0   \n",
       "2         ...                        365                 0   \n",
       "3         ...                        335                12   \n",
       "4         ...                        352                86   \n",
       "5         ...                        129                41   \n",
       "6         ...                        306                74   \n",
       "7         ...                        306               114   \n",
       "8         ...                        144                 5   \n",
       "9         ...                        106               206   \n",
       "\n",
       "   review_scores_rating  review_scores_accuracy  review_scores_cleanliness  \\\n",
       "0            100.000000               10.000000                   10.00000   \n",
       "1             93.004379                9.531624                    9.19608   \n",
       "2             93.004379                9.531624                    9.19608   \n",
       "3             93.000000               10.000000                   10.00000   \n",
       "4             97.000000               10.000000                   10.00000   \n",
       "5             97.000000               10.000000                   10.00000   \n",
       "6             98.000000               10.000000                   10.00000   \n",
       "7             90.000000                9.000000                    9.00000   \n",
       "8            100.000000               10.000000                   10.00000   \n",
       "9             92.000000                9.000000                    9.00000   \n",
       "\n",
       "   review_scores_checkin  review_scores_communication  review_scores_location  \\\n",
       "0              10.000000                    10.000000               10.000000   \n",
       "1               9.709184                     9.738259                9.417991   \n",
       "2               9.709184                     9.738259                9.417991   \n",
       "3              10.000000                    10.000000               10.000000   \n",
       "4              10.000000                    10.000000               10.000000   \n",
       "5              10.000000                    10.000000               10.000000   \n",
       "6              10.000000                    10.000000               10.000000   \n",
       "7               9.000000                     9.000000                9.000000   \n",
       "8              10.000000                    10.000000               10.000000   \n",
       "9              10.000000                    10.000000                9.000000   \n",
       "\n",
       "   review_scores_value  cancellation_policy  \n",
       "0            10.000000             moderate  \n",
       "1             9.338282             flexible  \n",
       "2             9.338282               strict  \n",
       "3            10.000000               strict  \n",
       "4            10.000000             moderate  \n",
       "5            10.000000             moderate  \n",
       "6            10.000000             flexible  \n",
       "7             9.000000               strict  \n",
       "8            10.000000             moderate  \n",
       "9             9.000000               strict  \n",
       "\n",
       "[10 rows x 30 columns]"
      ]
     },
     "execution_count": 25,
     "metadata": {},
     "output_type": "execute_result"
    }
   ],
   "source": [
    "data_features = pd.read_csv('preprocessed_data/preprocessed.csv')\n",
    "data_features[0:10]"
   ]
  },
  {
   "cell_type": "markdown",
   "metadata": {},
   "source": [
    "## Read Class Labels (Prices)"
   ]
  },
  {
   "cell_type": "code",
   "execution_count": 26,
   "metadata": {
    "collapsed": true
   },
   "outputs": [],
   "source": [
    "data_values = pd.read_csv('data/airbnb_class.csv')\n",
    "prices = []\n",
    "def removeDollar(col):\n",
    "    for i in range(len(data_values[col])):\n",
    "        price = data_values['price'][i]\n",
    "        price = re.sub('[,$]', '', price)\n",
    "        prices.append(float(price))\n",
    "    print prices[0:3] , len(prices)"
   ]
  },
  {
   "cell_type": "markdown",
   "metadata": {},
   "source": [
    "### Converting Price values to float [Class Labels]"
   ]
  },
  {
   "cell_type": "code",
   "execution_count": 27,
   "metadata": {},
   "outputs": [
    {
     "name": "stdout",
     "output_type": "stream",
     "text": [
      "     price\n",
      "0   $99.00\n",
      "1  $200.00\n",
      "2  $300.00\n",
      "[99.0, 200.0, 300.0] 40753\n"
     ]
    }
   ],
   "source": [
    "print data_values[0:3]\n",
    "removeDollar('price')"
   ]
  },
  {
   "cell_type": "markdown",
   "metadata": {},
   "source": [
    "### Convert Features into matrix"
   ]
  },
  {
   "cell_type": "code",
   "execution_count": 28,
   "metadata": {},
   "outputs": [
    {
     "name": "stdout",
     "output_type": "stream",
     "text": [
      "(40753, 1247)\n"
     ]
    }
   ],
   "source": [
    "from collections import defaultdict\n",
    "dd = defaultdict(list)\n",
    "dict_data_features = data_features.to_dict('records')\n",
    "from sklearn.feature_extraction import DictVectorizer\n",
    "vec = DictVectorizer()\n",
    "data_features_array = vec.fit_transform(dict_data_features).toarray()\n",
    "print data_features_array.shape"
   ]
  },
  {
   "cell_type": "markdown",
   "metadata": {},
   "source": [
    "### Linear Regression model"
   ]
  },
  {
   "cell_type": "code",
   "execution_count": 41,
   "metadata": {},
   "outputs": [
    {
     "name": "stdout",
     "output_type": "stream",
     "text": [
      "Time taken:  0:00:10.550760\n"
     ]
    }
   ],
   "source": [
    "from sklearn import linear_model\n",
    "reg = linear_model.LinearRegression()\n",
    "start = datetime.datetime.now()\n",
    "reg.fit(data_features_array, prices)\n",
    "end = datetime.datetime.now()\n",
    "print  \"Time taken: \", end - start\n",
    "# predict = reg.predict(data_features_array[32000:])\n",
    "# print \"MAE: \", median_absolute_error(prices[32000:], predict)"
   ]
  },
  {
   "cell_type": "markdown",
   "metadata": {},
   "source": [
    "### SGDRegressor"
   ]
  },
  {
   "cell_type": "code",
   "execution_count": 8,
   "metadata": {},
   "outputs": [
    {
     "name": "stdout",
     "output_type": "stream",
     "text": [
      "Time taken:  0:06:46.252325\n",
      "MAE:  55.0\n"
     ]
    }
   ],
   "source": [
    "from sklearn.linear_model import SGDClassifier\n",
    "start = datetime.datetime.now()\n",
    "clf = SGDClassifier(loss=\"log\", penalty=\"l1\")\n",
    "clf.fit(data_features_array[0:32000], prices[0:32000])\n",
    "end = datetime.datetime.now()\n",
    "print \"Time taken: \", end - start\n",
    "predict1 = clf.predict(data_features_array[32000:])\n",
    "print \"MAE: \", median_absolute_error(prices[32000:], predict1)"
   ]
  },
  {
   "cell_type": "markdown",
   "metadata": {},
   "source": [
    "### Ridge Regressor"
   ]
  },
  {
   "cell_type": "code",
   "execution_count": 9,
   "metadata": {},
   "outputs": [
    {
     "name": "stdout",
     "output_type": "stream",
     "text": [
      "Time taken:  0:00:01.779617\n",
      "33.6268552082\n"
     ]
    }
   ],
   "source": [
    "from sklearn import linear_model\n",
    "start = datetime.datetime.now()\n",
    "reg = linear_model.Ridge(alpha = 10000.0)\n",
    "reg.fit (data_features_array[0:32000], prices[0:32000]) \n",
    "end = datetime.datetime.now()\n",
    "print  \"Time taken: \", end - start\n",
    "predict1 = reg.predict(data_features_array[32000:])\n",
    "print median_absolute_error(prices[32000:], predict1)"
   ]
  },
  {
   "cell_type": "markdown",
   "metadata": {},
   "source": [
    "### Lasso Regression"
   ]
  },
  {
   "cell_type": "code",
   "execution_count": 44,
   "metadata": {},
   "outputs": [
    {
     "name": "stdout",
     "output_type": "stream",
     "text": [
      "Time taken:  0:00:02.357835\n"
     ]
    }
   ],
   "source": [
    "from sklearn import linear_model\n",
    "start = datetime.datetime.now()\n",
    "reg = linear_model.LassoLars(alpha=0.06)\n",
    "reg.fit (data_features_array, prices) \n",
    "end = datetime.datetime.now()\n",
    "print  \"Time taken: \", end - start\n",
    "# predict1 = reg.predict(data_features_array[30000:])\n",
    "# print \"MAE: \", median_absolute_error(prices[30000:], predict1)"
   ]
  },
  {
   "cell_type": "markdown",
   "metadata": {},
   "source": [
    "### Bayesian Ridge"
   ]
  },
  {
   "cell_type": "code",
   "execution_count": 11,
   "metadata": {},
   "outputs": [
    {
     "name": "stdout",
     "output_type": "stream",
     "text": [
      "Time taken:  0:00:19.999200\n",
      "MAE:  37.2212375009\n"
     ]
    }
   ],
   "source": [
    "start = datetime.datetime.now()\n",
    "reg = linear_model.BayesianRidge(alpha_1=0.01)\n",
    "reg.fit (data_features_array[0:32000], prices[0:32000]) \n",
    "end = datetime.datetime.now()\n",
    "print  \"Time taken: \", end - start\n",
    "predict1 = reg.predict(data_features_array[32000:])\n",
    "print \"MAE: \", median_absolute_error(prices[32000:], predict1)"
   ]
  },
  {
   "cell_type": "markdown",
   "metadata": {},
   "source": [
    "### Cross Validation"
   ]
  },
  {
   "cell_type": "code",
   "execution_count": 41,
   "metadata": {},
   "outputs": [
    {
     "name": "stdout",
     "output_type": "stream",
     "text": [
      "(32602, 1247) (8151, 1247)\n",
      "Time taken:  0:00:03.436472\n",
      "MAE:  32.9548312327\n"
     ]
    }
   ],
   "source": [
    "from sklearn.model_selection import train_test_split\n",
    "start = datetime.datetime.now()\n",
    "X_train, X_test, y_train, y_test = train_test_split(data_features_array, prices, test_size=0.2, random_state=1)\n",
    "print X_train.shape, X_test.shape\n",
    "reg = linear_model.LassoLars(alpha=0.06)\n",
    "reg.fit (X_train, y_train) \n",
    "end = datetime.datetime.now()\n",
    "print  \"Time taken: \", end - start\n",
    "predict1 = reg.predict(X_test)\n",
    "print \"MAE: \", median_absolute_error(y_test, predict1)"
   ]
  },
  {
   "cell_type": "code",
   "execution_count": 77,
   "metadata": {},
   "outputs": [
    {
     "name": "stdout",
     "output_type": "stream",
     "text": [
      "MAE for Lasso Lars:  39.306808148\n",
      "MAE for ridge regression:  36.544407858\n",
      "Average MAE:  37.0204441904\n",
      "MAE for Lasso Lars:  32.7895924448\n",
      "MAE for ridge regression:  32.1564943616\n",
      "Average MAE:  31.0625547037\n",
      "MAE for Lasso Lars:  32.4217889081\n",
      "MAE for ridge regression:  31.3945768599\n",
      "Average MAE:  31.1728524602\n",
      "MAE for Lasso Lars:  31.1751953029\n",
      "MAE for ridge regression:  32.0858791629\n",
      "Average MAE:  31.1940653946\n",
      "MAE for Lasso Lars:  34.2776138501\n",
      "MAE for ridge regression:  34.836324218\n",
      "Average MAE:  33.7989505148\n",
      "MAE for Lasso Lars:  35.5811504072\n",
      "MAE for ridge regression:  34.3203256556\n",
      "Average MAE:  34.5168072154\n",
      "MAE for Lasso Lars:  38.8037584856\n",
      "MAE for ridge regression:  38.4497025879\n",
      "Average MAE:  38.5979451961\n",
      "MAE for Lasso Lars:  30.8118269691\n",
      "MAE for ridge regression:  33.7843448039\n",
      "Average MAE:  31.7641073589\n",
      "MAE for Lasso Lars:  37.1445133709\n",
      "MAE for ridge regression:  37.6227261167\n",
      "Average MAE:  36.8543284589\n",
      "MAE for Lasso Lars:  28.6970984109\n",
      "MAE for ridge regression:  30.1812203122\n",
      "Average MAE:  29.2844994869\n",
      "34.1009346298\n",
      "34.1376001937\n",
      "33.526655498\n"
     ]
    }
   ],
   "source": [
    "prices = np.asarray(prices)\n",
    "from sklearn.model_selection import StratifiedKFold\n",
    "skf = StratifiedKFold(n_splits=10)\n",
    "lass = []\n",
    "rid = []\n",
    "avg = []\n",
    "for train, test in skf.split(data_features_array, prices):\n",
    "    X_train = data_features_array[train]\n",
    "    X_test = data_features_array[test]\n",
    "    y_train = prices[train]\n",
    "    y_test = prices[test]\n",
    "    start = datetime.datetime.now()\n",
    "    reg = linear_model.LassoLars(alpha=0.06)\n",
    "    reg.fit (X_train, y_train) \n",
    "    end = datetime.datetime.now()\n",
    "#     print  \"Time taken for lasso lars: \", end - start\n",
    "    predict1 = reg.predict(X_test)\n",
    "    lassoLars = median_absolute_error(y_test, predict1)\n",
    "    lass.append(lassoLars)\n",
    "    print \"MAE for Lasso Lars: \", lassoLars\n",
    "    start = datetime.datetime.now()\n",
    "    reg = linear_model.Ridge(alpha = 10000.0)\n",
    "    reg.fit (X_train, y_train) \n",
    "    end = datetime.datetime.now()\n",
    "#     print  \"Time taken for ridge regression: \", end - start\n",
    "    predict2 = reg.predict(X_test)\n",
    "    ridge = median_absolute_error(y_test, predict2)\n",
    "    rid.append(ridge)\n",
    "    print \"MAE for ridge regression: \", median_absolute_error(y_test, predict2)\n",
    "#     print \"Difference: \", lassoLars - ridge\n",
    "    print \"Average MAE: \", median_absolute_error(y_test, ((predict1 + predict2)/2.0))\n",
    "    avg.append(median_absolute_error(y_test, ((predict1 + predict2)/2.0)))\n",
    "total = 0.00\n",
    "for i in lass:\n",
    "    total = total + float(i)\n",
    "print total/len(lass)\n",
    "\n",
    "total = 0.00\n",
    "for i in rid:\n",
    "    total = total + float(i)\n",
    "print total/len(rid)\n",
    "\n",
    "total = 0.00\n",
    "for i in avg:\n",
    "    total = total + float(i)\n",
    "print total/len(rid)"
   ]
  },
  {
   "cell_type": "code",
   "execution_count": 81,
   "metadata": {},
   "outputs": [
    {
     "name": "stdout",
     "output_type": "stream",
     "text": [
      "Average MAE:  33.289631295\n",
      "Average MAE:  32.5428065512\n",
      "Average MAE:  32.4387827291\n",
      "Average MAE:  32.8746086015\n",
      "Average MAE:  31.6009678666\n",
      "Average MAE:  32.5827044872\n",
      "Average MAE:  32.0415968239\n",
      "Average MAE:  32.5603808214\n",
      "Average MAE:  32.9030823542\n",
      "Average MAE:  32.8311087529\n",
      "33.1608828322\n",
      "33.2978034858\n",
      "32.9011406905\n"
     ]
    }
   ],
   "source": [
    "prices = np.asarray(prices)\n",
    "from sklearn.model_selection import ShuffleSplit\n",
    "ss = ShuffleSplit(n_splits=10, test_size=0.15,random_state=0)\n",
    "lass = []\n",
    "rid = []\n",
    "for train, test in ss.split(data_features_array, prices):\n",
    "    X_train = data_features_array[train]\n",
    "    X_test = data_features_array[test]\n",
    "    y_train = prices[train]\n",
    "    y_test = prices[test]\n",
    "    start = datetime.datetime.now()\n",
    "    reg = linear_model.LassoLars(alpha=0.06)\n",
    "    reg.fit (X_train, y_train) \n",
    "    end = datetime.datetime.now()\n",
    "#     print  \"Time taken for lasso lars: \", end - start\n",
    "    predict1 = reg.predict(X_test)\n",
    "    lassoLars = median_absolute_error(y_test, predict1)\n",
    "    lass.append(lassoLars)\n",
    "#     print \"MAE for Lasso Lars: \", lassoLars\n",
    "    start = datetime.datetime.now()\n",
    "    reg = linear_model.Ridge(alpha = 10000.0)\n",
    "    reg.fit (X_train, y_train) \n",
    "    end = datetime.datetime.now()\n",
    "#     print  \"Time taken for ridge regression: \", end - start\n",
    "    predict2 = reg.predict(X_test)\n",
    "    ridge = median_absolute_error(y_test, predict2)\n",
    "    rid.append(ridge)\n",
    "#     print \"MAE for ridge regression: \", median_absolute_error(y_test, predict1)\n",
    "#     print \"Difference: \", lassoLars - ridge\n",
    "    print \"Average MAE: \", median_absolute_error(y_test, ((predict1 + predict2)/2.0))\n",
    "    avg.append(median_absolute_error(y_test, ((predict1 + predict2)/2.0)))\n",
    "total = 0.00\n",
    "for i in lass:\n",
    "    total = total + float(i)\n",
    "print total/len(lass)\n",
    "\n",
    "total = 0.00\n",
    "for i in rid:\n",
    "    total = total + float(i)\n",
    "print total/len(rid)\n",
    "\n",
    "total = 0.00\n",
    "for i in avg:\n",
    "    total = total + float(i)\n",
    "print total/len(avg)"
   ]
  },
  {
   "cell_type": "code",
   "execution_count": 79,
   "metadata": {},
   "outputs": [
    {
     "name": "stdout",
     "output_type": "stream",
     "text": [
      "33.1411628079\n"
     ]
    }
   ],
   "source": [
    "total = 0.00\n",
    "for i in avg:\n",
    "    total = total + float(i)\n",
    "print total/len(avg)"
   ]
  },
  {
   "cell_type": "code",
   "execution_count": 47,
   "metadata": {
    "collapsed": true
   },
   "outputs": [],
   "source": [
    "predictValues = [{\n",
    "  'accommodates': 2,\n",
    "  'availability_30': 24,\n",
    "  'availability_365': 170,\n",
    "  'availability_60': 54,\n",
    "  'availability_90': 80,\n",
    "  'bathrooms': 1.0,\n",
    "  'bed_type': 'Real Bed',\n",
    "  'bedrooms': 1.0,\n",
    "  'beds': 1.0,\n",
    "  'cancellation_policy': 'moderate',\n",
    "  'city': 'Bronx',\n",
    "  'cleaning_fee': '$50.00',\n",
    "  'extra_people': '$20.00',\n",
    "  'guests_included': 1.0,\n",
    "  'host_identity_verified': 't',\n",
    "  'host_neighbourhood': 'City Island',\n",
    "  'neighbourhood': 'City Island',\n",
    "  'number_of_reviews': 25,\n",
    "  'property_type': 'House',\n",
    "  'review_scores_accuracy': 10.0,\n",
    "  'review_scores_checkin': 10.0,\n",
    "  'review_scores_cleanliness': 10.0,\n",
    "  'review_scores_communication': 10.0,\n",
    "  'review_scores_location': 10.0,\n",
    "  'review_scores_rating': 100.0,\n",
    "  'review_scores_value': 10.0,\n",
    "  'room_type': 'Private room',\n",
    "  'security_deposit': '$100.00',\n",
    "  'square_feet': 718.1781305110001,\n",
    "  'zipcode': '10464'\n",
    "}]"
   ]
  },
  {
   "cell_type": "code",
   "execution_count": 48,
   "metadata": {},
   "outputs": [
    {
     "name": "stdout",
     "output_type": "stream",
     "text": [
      "hello, array:  [[   2.   24.  170. ...,    0.    0.    0.]]\n",
      "Predicted value is:--> [ 51.06176505]\n",
      "51.0617650538\n"
     ]
    }
   ],
   "source": [
    "hello = vec.transform(predictValues)\n",
    "print \"hello, array: \", hello.toarray()\n",
    "super_predict = reg.predict(hello.toarray())\n",
    "print \"Predicted value is:-->\", super_predict\n",
    "price = str(super_predict[0])\n",
    "print price"
   ]
  },
  {
   "cell_type": "code",
   "execution_count": 52,
   "metadata": {},
   "outputs": [
    {
     "data": {
      "text/plain": [
       "<bound method Series.unique of 0           Private room\n",
       "1           Private room\n",
       "2        Entire home/apt\n",
       "3        Entire home/apt\n",
       "4           Private room\n",
       "5        Entire home/apt\n",
       "6        Entire home/apt\n",
       "7           Private room\n",
       "8        Entire home/apt\n",
       "9        Entire home/apt\n",
       "10          Private room\n",
       "11          Private room\n",
       "12       Entire home/apt\n",
       "13          Private room\n",
       "14          Private room\n",
       "15          Private room\n",
       "16          Private room\n",
       "17          Private room\n",
       "18          Private room\n",
       "19       Entire home/apt\n",
       "20       Entire home/apt\n",
       "21       Entire home/apt\n",
       "22          Private room\n",
       "23       Entire home/apt\n",
       "24          Private room\n",
       "25          Private room\n",
       "26          Private room\n",
       "27          Private room\n",
       "28          Private room\n",
       "29          Private room\n",
       "              ...       \n",
       "40723       Private room\n",
       "40724    Entire home/apt\n",
       "40725    Entire home/apt\n",
       "40726    Entire home/apt\n",
       "40727       Private room\n",
       "40728    Entire home/apt\n",
       "40729    Entire home/apt\n",
       "40730    Entire home/apt\n",
       "40731       Private room\n",
       "40732       Private room\n",
       "40733       Private room\n",
       "40734       Private room\n",
       "40735       Private room\n",
       "40736       Private room\n",
       "40737    Entire home/apt\n",
       "40738       Private room\n",
       "40739       Private room\n",
       "40740    Entire home/apt\n",
       "40741       Private room\n",
       "40742       Private room\n",
       "40743    Entire home/apt\n",
       "40744       Private room\n",
       "40745    Entire home/apt\n",
       "40746    Entire home/apt\n",
       "40747       Private room\n",
       "40748       Private room\n",
       "40749    Entire home/apt\n",
       "40750    Entire home/apt\n",
       "40751       Private room\n",
       "40752       Private room\n",
       "Name: room_type, Length: 40753, dtype: object>"
      ]
     },
     "execution_count": 52,
     "metadata": {},
     "output_type": "execute_result"
    }
   ],
   "source": [
    "data_features['room_type'].unique"
   ]
  },
  {
   "cell_type": "code",
   "execution_count": null,
   "metadata": {
    "collapsed": true
   },
   "outputs": [],
   "source": []
  }
 ],
 "metadata": {
  "kernelspec": {
   "display_name": "Python 2",
   "language": "python",
   "name": "python2"
  },
  "language_info": {
   "codemirror_mode": {
    "name": "ipython",
    "version": 2
   },
   "file_extension": ".py",
   "mimetype": "text/x-python",
   "name": "python",
   "nbconvert_exporter": "python",
   "pygments_lexer": "ipython2",
   "version": "2.7.13"
  }
 },
 "nbformat": 4,
 "nbformat_minor": 2
}
